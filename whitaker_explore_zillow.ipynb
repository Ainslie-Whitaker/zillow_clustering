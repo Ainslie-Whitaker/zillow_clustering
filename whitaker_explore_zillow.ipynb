{
 "cells": [
  {
   "cell_type": "markdown",
   "id": "2332e22d",
   "metadata": {},
   "source": [
    "# Zillow"
   ]
  },
  {
   "cell_type": "markdown",
   "id": "97e3025d",
   "metadata": {},
   "source": [
    "## Exploratory Analysis of Zillow Data"
   ]
  },
  {
   "cell_type": "code",
   "execution_count": 1,
   "id": "c5507867",
   "metadata": {},
   "outputs": [],
   "source": [
    "import numpy as np\n",
    "import pandas as pd\n",
    "\n",
    "# Visualizing\n",
    "%matplotlib inline\n",
    "import matplotlib.pyplot as plt\n",
    "import seaborn as sns\n",
    "\n",
    "# default pandas decimal number display format\n",
    "pd.options.display.float_format = '{:.2f}'.format\n",
    "\n",
    "# Split \n",
    "from sklearn.model_selection import train_test_split\n",
    "\n",
    "# Scale\n",
    "from sklearn.preprocessing import MinMaxScaler\n",
    "\n",
    "# Stats\n",
    "import scipy.stats as stats\n",
    "\n",
    "# Ignore Warnings\n",
    "import warnings\n",
    "warnings.filterwarnings(\"ignore\")\n",
    "\n",
    "#My Files\n",
    "import env\n",
    "from wrangle_zillow import *"
   ]
  },
  {
   "cell_type": "markdown",
   "id": "848cec18",
   "metadata": {},
   "source": [
    "Can leave unscaled for exploration, but scale before modeling!!\n"
   ]
  },
  {
   "cell_type": "code",
   "execution_count": 2,
   "id": "12931f48",
   "metadata": {},
   "outputs": [
    {
     "data": {
      "text/html": [
       "<div>\n",
       "<style scoped>\n",
       "    .dataframe tbody tr th:only-of-type {\n",
       "        vertical-align: middle;\n",
       "    }\n",
       "\n",
       "    .dataframe tbody tr th {\n",
       "        vertical-align: top;\n",
       "    }\n",
       "\n",
       "    .dataframe thead th {\n",
       "        text-align: right;\n",
       "    }\n",
       "</style>\n",
       "<table border=\"1\" class=\"dataframe\">\n",
       "  <thead>\n",
       "    <tr style=\"text-align: right;\">\n",
       "      <th></th>\n",
       "      <th>bathrooms</th>\n",
       "      <th>bedrooms</th>\n",
       "      <th>area</th>\n",
       "      <th>counties</th>\n",
       "      <th>latitude</th>\n",
       "      <th>longitude</th>\n",
       "      <th>lot_area</th>\n",
       "      <th>regionidcity</th>\n",
       "      <th>regionidcounty</th>\n",
       "      <th>regionidzip</th>\n",
       "      <th>...</th>\n",
       "      <th>assessmentyear</th>\n",
       "      <th>landtaxvalue</th>\n",
       "      <th>taxamount</th>\n",
       "      <th>logerror</th>\n",
       "      <th>transactiondate</th>\n",
       "      <th>los_angeles</th>\n",
       "      <th>orange</th>\n",
       "      <th>ventura</th>\n",
       "      <th>age</th>\n",
       "      <th>bath_bed_ratio</th>\n",
       "    </tr>\n",
       "  </thead>\n",
       "  <tbody>\n",
       "    <tr>\n",
       "      <th>0</th>\n",
       "      <td>3.50</td>\n",
       "      <td>4</td>\n",
       "      <td>3100</td>\n",
       "      <td>orange</td>\n",
       "      <td>33634931</td>\n",
       "      <td>-117869207</td>\n",
       "      <td>4506</td>\n",
       "      <td>53571.00</td>\n",
       "      <td>1286</td>\n",
       "      <td>96978</td>\n",
       "      <td>...</td>\n",
       "      <td>2016</td>\n",
       "      <td>537569</td>\n",
       "      <td>11013</td>\n",
       "      <td>0.03</td>\n",
       "      <td>2017-01-01</td>\n",
       "      <td>0</td>\n",
       "      <td>1</td>\n",
       "      <td>0</td>\n",
       "      <td>19</td>\n",
       "      <td>0.88</td>\n",
       "    </tr>\n",
       "    <tr>\n",
       "      <th>1</th>\n",
       "      <td>1.00</td>\n",
       "      <td>2</td>\n",
       "      <td>1465</td>\n",
       "      <td>ventura</td>\n",
       "      <td>34449266</td>\n",
       "      <td>-119281531</td>\n",
       "      <td>12647</td>\n",
       "      <td>13091.00</td>\n",
       "      <td>2061</td>\n",
       "      <td>97099</td>\n",
       "      <td>...</td>\n",
       "      <td>2016</td>\n",
       "      <td>376000</td>\n",
       "      <td>5672</td>\n",
       "      <td>0.06</td>\n",
       "      <td>2017-01-01</td>\n",
       "      <td>0</td>\n",
       "      <td>0</td>\n",
       "      <td>1</td>\n",
       "      <td>50</td>\n",
       "      <td>0.50</td>\n",
       "    </tr>\n",
       "    <tr>\n",
       "      <th>2</th>\n",
       "      <td>2.00</td>\n",
       "      <td>3</td>\n",
       "      <td>1243</td>\n",
       "      <td>orange</td>\n",
       "      <td>33886168</td>\n",
       "      <td>-117823170</td>\n",
       "      <td>8432</td>\n",
       "      <td>21412.00</td>\n",
       "      <td>1286</td>\n",
       "      <td>97078</td>\n",
       "      <td>...</td>\n",
       "      <td>2016</td>\n",
       "      <td>479489</td>\n",
       "      <td>6488</td>\n",
       "      <td>0.01</td>\n",
       "      <td>2017-01-01</td>\n",
       "      <td>0</td>\n",
       "      <td>1</td>\n",
       "      <td>0</td>\n",
       "      <td>55</td>\n",
       "      <td>0.67</td>\n",
       "    </tr>\n",
       "    <tr>\n",
       "      <th>3</th>\n",
       "      <td>3.00</td>\n",
       "      <td>4</td>\n",
       "      <td>2376</td>\n",
       "      <td>los_angeles</td>\n",
       "      <td>34245180</td>\n",
       "      <td>-118240722</td>\n",
       "      <td>13038</td>\n",
       "      <td>396551.00</td>\n",
       "      <td>3101</td>\n",
       "      <td>96330</td>\n",
       "      <td>...</td>\n",
       "      <td>2016</td>\n",
       "      <td>36225</td>\n",
       "      <td>1777</td>\n",
       "      <td>-0.10</td>\n",
       "      <td>2017-01-01</td>\n",
       "      <td>1</td>\n",
       "      <td>0</td>\n",
       "      <td>0</td>\n",
       "      <td>47</td>\n",
       "      <td>0.75</td>\n",
       "    </tr>\n",
       "    <tr>\n",
       "      <th>6</th>\n",
       "      <td>3.00</td>\n",
       "      <td>4</td>\n",
       "      <td>2962</td>\n",
       "      <td>los_angeles</td>\n",
       "      <td>34145202</td>\n",
       "      <td>-118179824</td>\n",
       "      <td>63000</td>\n",
       "      <td>47019.00</td>\n",
       "      <td>3101</td>\n",
       "      <td>96293</td>\n",
       "      <td>...</td>\n",
       "      <td>2016</td>\n",
       "      <td>496619</td>\n",
       "      <td>9516</td>\n",
       "      <td>-0.00</td>\n",
       "      <td>2017-01-01</td>\n",
       "      <td>1</td>\n",
       "      <td>0</td>\n",
       "      <td>0</td>\n",
       "      <td>67</td>\n",
       "      <td>0.75</td>\n",
       "    </tr>\n",
       "  </tbody>\n",
       "</table>\n",
       "<p>5 rows × 24 columns</p>\n",
       "</div>"
      ],
      "text/plain": [
       "   bathrooms  bedrooms  area     counties  latitude  longitude  lot_area  \\\n",
       "0       3.50         4  3100       orange  33634931 -117869207      4506   \n",
       "1       1.00         2  1465      ventura  34449266 -119281531     12647   \n",
       "2       2.00         3  1243       orange  33886168 -117823170      8432   \n",
       "3       3.00         4  2376  los_angeles  34245180 -118240722     13038   \n",
       "6       3.00         4  2962  los_angeles  34145202 -118179824     63000   \n",
       "\n",
       "   regionidcity regionidcounty regionidzip  ...  assessmentyear  landtaxvalue  \\\n",
       "0      53571.00           1286       96978  ...            2016        537569   \n",
       "1      13091.00           2061       97099  ...            2016        376000   \n",
       "2      21412.00           1286       97078  ...            2016        479489   \n",
       "3     396551.00           3101       96330  ...            2016         36225   \n",
       "6      47019.00           3101       96293  ...            2016        496619   \n",
       "\n",
       "   taxamount  logerror transactiondate  los_angeles  orange  ventura age  \\\n",
       "0      11013      0.03      2017-01-01            0       1        0  19   \n",
       "1       5672      0.06      2017-01-01            0       0        1  50   \n",
       "2       6488      0.01      2017-01-01            0       1        0  55   \n",
       "3       1777     -0.10      2017-01-01            1       0        0  47   \n",
       "6       9516     -0.00      2017-01-01            1       0        0  67   \n",
       "\n",
       "   bath_bed_ratio  \n",
       "0            0.88  \n",
       "1            0.50  \n",
       "2            0.67  \n",
       "3            0.75  \n",
       "6            0.75  \n",
       "\n",
       "[5 rows x 24 columns]"
      ]
     },
     "execution_count": 2,
     "metadata": {},
     "output_type": "execute_result"
    }
   ],
   "source": [
    "# aquire zillow data using function from wrangle_zillow\n",
    "df = wrangle_zillow()\n",
    "df.head()"
   ]
  },
  {
   "cell_type": "code",
   "execution_count": 3,
   "id": "d62fb2b1",
   "metadata": {},
   "outputs": [
    {
     "data": {
      "text/plain": [
       "(51945, 24)"
      ]
     },
     "execution_count": 3,
     "metadata": {},
     "output_type": "execute_result"
    }
   ],
   "source": [
    "df.shape\n"
   ]
  },
  {
   "cell_type": "code",
   "execution_count": 4,
   "id": "1a87899f",
   "metadata": {},
   "outputs": [],
   "source": [
    "# split data using function from\n",
    "train, validate, test = split_data(df)"
   ]
  },
  {
   "cell_type": "code",
   "execution_count": 5,
   "id": "e972908a",
   "metadata": {},
   "outputs": [],
   "source": [
    "# scaler, train_scaled, validate_scaled, test_scaled = min_max_scaler(train, validate, test)"
   ]
  },
  {
   "cell_type": "code",
   "execution_count": 6,
   "id": "c292fc3f",
   "metadata": {},
   "outputs": [],
   "source": [
    "# train_scaled.head()"
   ]
  },
  {
   "cell_type": "markdown",
   "id": "306157b6",
   "metadata": {},
   "source": [
    "1. Ask at least 5 questions about the data, keeping in mind that your target variable is logerror. e.g. Is logerror significantly different for properties in LA County vs Orange County vs Ventura County?"
   ]
  },
  {
   "cell_type": "markdown",
   "id": "7ecbfaea",
   "metadata": {},
   "source": [
    "#### Notes: "
   ]
  },
  {
   "cell_type": "markdown",
   "id": "d31c97fa",
   "metadata": {},
   "source": [
    "target = logerror"
   ]
  },
  {
   "cell_type": "markdown",
   "id": "03860a27",
   "metadata": {},
   "source": [
    "log_error = difference of log(Zestimate) and log(SalePrice)"
   ]
  },
  {
   "cell_type": "markdown",
   "id": "66de4441",
   "metadata": {},
   "source": [
    "Q: Why did Zillow pick the log error instead of an absolute error metric such as RMSE?\n",
    "\n",
    "Home sale prices have a right skewed distribution and are also strongly heteroscedastic, so we need to use a relative error metric instead of an absolute metric to ensure valuation models are not biased towards expensive homes. A relative error metric like the percentage error or log ratio error avoids these problems. While we report Zestimate errors in terms of percentages on Zillow.com because we believe that to be a more intuitive metric for consumers, we do not advocate using percentage error to evaluate models in Zillow Prize, as it may lead to biased models The log error is free of this bias problem and when using the natural logarithm, errors close to 1 approximate percentage errors quite closely. See this paper for more on relative errors and why log error should be used instead of percentage error.\n",
    "\n",
    "https://papers.ssrn.com/sol3/papers.cfm?abstract_id=2635088"
   ]
  },
  {
   "cell_type": "markdown",
   "id": "25bf7202",
   "metadata": {},
   "source": [
    "#### Questions: "
   ]
  },
  {
   "cell_type": "markdown",
   "id": "54a2d80e",
   "metadata": {},
   "source": [
    "1. Is logerror significantly different for properties in LA County vs Orange County vs Ventura County?\n",
    "2. \n",
    "3. \n",
    "4. \n",
    "5. "
   ]
  },
  {
   "cell_type": "markdown",
   "id": "29a1b574",
   "metadata": {},
   "source": [
    "2. Answer those questions through a mix of statistical tests and visualizations."
   ]
  },
  {
   "cell_type": "markdown",
   "id": "783bc1e6",
   "metadata": {},
   "source": [
    "Question 1: \n",
    "\n",
    "Is logerror significantly different for properties in LA County vs Orange County vs Ventura County?\n",
    "\n",
    "Orange county has a greater log error than L.A. and Ventura counties; Ventura having the lowest log error. The mean log error is 0.02. L.A. and Ventura are below the average and Orange County is above the average log error. They are all very similar however. "
   ]
  },
  {
   "cell_type": "code",
   "execution_count": 7,
   "id": "50bcf0d8",
   "metadata": {},
   "outputs": [
    {
     "data": {
      "text/html": [
       "<div>\n",
       "<style scoped>\n",
       "    .dataframe tbody tr th:only-of-type {\n",
       "        vertical-align: middle;\n",
       "    }\n",
       "\n",
       "    .dataframe tbody tr th {\n",
       "        vertical-align: top;\n",
       "    }\n",
       "\n",
       "    .dataframe thead th {\n",
       "        text-align: right;\n",
       "    }\n",
       "</style>\n",
       "<table border=\"1\" class=\"dataframe\">\n",
       "  <thead>\n",
       "    <tr style=\"text-align: right;\">\n",
       "      <th></th>\n",
       "      <th>bathrooms</th>\n",
       "      <th>bedrooms</th>\n",
       "      <th>area</th>\n",
       "      <th>latitude</th>\n",
       "      <th>longitude</th>\n",
       "      <th>lot_area</th>\n",
       "      <th>regionidcity</th>\n",
       "      <th>roomcnt</th>\n",
       "      <th>yearbuilt</th>\n",
       "      <th>structuretaxvalue</th>\n",
       "      <th>taxvalue</th>\n",
       "      <th>landtaxvalue</th>\n",
       "      <th>taxamount</th>\n",
       "      <th>logerror</th>\n",
       "      <th>los_angeles</th>\n",
       "      <th>orange</th>\n",
       "      <th>ventura</th>\n",
       "      <th>age</th>\n",
       "      <th>bath_bed_ratio</th>\n",
       "    </tr>\n",
       "  </thead>\n",
       "  <tbody>\n",
       "    <tr>\n",
       "      <th>count</th>\n",
       "      <td>29089.00</td>\n",
       "      <td>29089.00</td>\n",
       "      <td>29089.00</td>\n",
       "      <td>29089.00</td>\n",
       "      <td>29089.00</td>\n",
       "      <td>29089.00</td>\n",
       "      <td>29089.00</td>\n",
       "      <td>29089.00</td>\n",
       "      <td>29089.00</td>\n",
       "      <td>29089.00</td>\n",
       "      <td>29089.00</td>\n",
       "      <td>29089.00</td>\n",
       "      <td>29089.00</td>\n",
       "      <td>29089.00</td>\n",
       "      <td>29089.00</td>\n",
       "      <td>29089.00</td>\n",
       "      <td>29089.00</td>\n",
       "      <td>29089.00</td>\n",
       "      <td>29089.00</td>\n",
       "    </tr>\n",
       "    <tr>\n",
       "      <th>mean</th>\n",
       "      <td>2.28</td>\n",
       "      <td>3.30</td>\n",
       "      <td>1899.37</td>\n",
       "      <td>34024104.39</td>\n",
       "      <td>-118193863.72</td>\n",
       "      <td>11306.04</td>\n",
       "      <td>33312.43</td>\n",
       "      <td>1.90</td>\n",
       "      <td>1963.21</td>\n",
       "      <td>186578.14</td>\n",
       "      <td>493449.33</td>\n",
       "      <td>306871.19</td>\n",
       "      <td>6028.09</td>\n",
       "      <td>0.02</td>\n",
       "      <td>0.65</td>\n",
       "      <td>0.27</td>\n",
       "      <td>0.08</td>\n",
       "      <td>53.79</td>\n",
       "      <td>0.70</td>\n",
       "    </tr>\n",
       "    <tr>\n",
       "      <th>std</th>\n",
       "      <td>0.98</td>\n",
       "      <td>0.93</td>\n",
       "      <td>938.98</td>\n",
       "      <td>274310.86</td>\n",
       "      <td>356191.60</td>\n",
       "      <td>88440.99</td>\n",
       "      <td>49554.57</td>\n",
       "      <td>3.14</td>\n",
       "      <td>23.02</td>\n",
       "      <td>196723.79</td>\n",
       "      <td>502157.07</td>\n",
       "      <td>357883.45</td>\n",
       "      <td>5789.82</td>\n",
       "      <td>0.17</td>\n",
       "      <td>0.48</td>\n",
       "      <td>0.44</td>\n",
       "      <td>0.28</td>\n",
       "      <td>23.02</td>\n",
       "      <td>0.24</td>\n",
       "    </tr>\n",
       "    <tr>\n",
       "      <th>min</th>\n",
       "      <td>1.00</td>\n",
       "      <td>1.00</td>\n",
       "      <td>300.00</td>\n",
       "      <td>33340620.00</td>\n",
       "      <td>-119475265.00</td>\n",
       "      <td>236.00</td>\n",
       "      <td>3491.00</td>\n",
       "      <td>0.00</td>\n",
       "      <td>1880.00</td>\n",
       "      <td>148.00</td>\n",
       "      <td>3254.00</td>\n",
       "      <td>161.00</td>\n",
       "      <td>49.00</td>\n",
       "      <td>-4.66</td>\n",
       "      <td>0.00</td>\n",
       "      <td>0.00</td>\n",
       "      <td>0.00</td>\n",
       "      <td>1.00</td>\n",
       "      <td>0.20</td>\n",
       "    </tr>\n",
       "    <tr>\n",
       "      <th>25%</th>\n",
       "      <td>2.00</td>\n",
       "      <td>3.00</td>\n",
       "      <td>1263.00</td>\n",
       "      <td>33827385.00</td>\n",
       "      <td>-118399974.00</td>\n",
       "      <td>5595.00</td>\n",
       "      <td>12447.00</td>\n",
       "      <td>0.00</td>\n",
       "      <td>1950.00</td>\n",
       "      <td>76088.00</td>\n",
       "      <td>190372.00</td>\n",
       "      <td>74077.00</td>\n",
       "      <td>2610.00</td>\n",
       "      <td>-0.02</td>\n",
       "      <td>0.00</td>\n",
       "      <td>0.00</td>\n",
       "      <td>0.00</td>\n",
       "      <td>38.00</td>\n",
       "      <td>0.50</td>\n",
       "    </tr>\n",
       "    <tr>\n",
       "      <th>50%</th>\n",
       "      <td>2.00</td>\n",
       "      <td>3.00</td>\n",
       "      <td>1650.00</td>\n",
       "      <td>34025724.00</td>\n",
       "      <td>-118153327.00</td>\n",
       "      <td>6795.00</td>\n",
       "      <td>24435.00</td>\n",
       "      <td>0.00</td>\n",
       "      <td>1960.00</td>\n",
       "      <td>130000.00</td>\n",
       "      <td>369000.00</td>\n",
       "      <td>214625.00</td>\n",
       "      <td>4594.00</td>\n",
       "      <td>0.01</td>\n",
       "      <td>1.00</td>\n",
       "      <td>0.00</td>\n",
       "      <td>0.00</td>\n",
       "      <td>57.00</td>\n",
       "      <td>0.67</td>\n",
       "    </tr>\n",
       "    <tr>\n",
       "      <th>75%</th>\n",
       "      <td>3.00</td>\n",
       "      <td>4.00</td>\n",
       "      <td>2290.00</td>\n",
       "      <td>34189058.00</td>\n",
       "      <td>-117930191.00</td>\n",
       "      <td>8720.00</td>\n",
       "      <td>40227.00</td>\n",
       "      <td>5.00</td>\n",
       "      <td>1979.00</td>\n",
       "      <td>223152.00</td>\n",
       "      <td>609149.00</td>\n",
       "      <td>402000.00</td>\n",
       "      <td>7272.00</td>\n",
       "      <td>0.04</td>\n",
       "      <td>1.00</td>\n",
       "      <td>1.00</td>\n",
       "      <td>0.00</td>\n",
       "      <td>67.00</td>\n",
       "      <td>0.80</td>\n",
       "    </tr>\n",
       "    <tr>\n",
       "      <th>max</th>\n",
       "      <td>10.00</td>\n",
       "      <td>12.00</td>\n",
       "      <td>11020.00</td>\n",
       "      <td>34818767.00</td>\n",
       "      <td>-117554636.00</td>\n",
       "      <td>6971010.00</td>\n",
       "      <td>396556.00</td>\n",
       "      <td>14.00</td>\n",
       "      <td>2016.00</td>\n",
       "      <td>3316500.00</td>\n",
       "      <td>4993132.00</td>\n",
       "      <td>4847224.00</td>\n",
       "      <td>59247.00</td>\n",
       "      <td>3.39</td>\n",
       "      <td>1.00</td>\n",
       "      <td>1.00</td>\n",
       "      <td>1.00</td>\n",
       "      <td>137.00</td>\n",
       "      <td>7.50</td>\n",
       "    </tr>\n",
       "  </tbody>\n",
       "</table>\n",
       "</div>"
      ],
      "text/plain": [
       "       bathrooms  bedrooms     area    latitude     longitude   lot_area  \\\n",
       "count   29089.00  29089.00 29089.00    29089.00      29089.00   29089.00   \n",
       "mean        2.28      3.30  1899.37 34024104.39 -118193863.72   11306.04   \n",
       "std         0.98      0.93   938.98   274310.86     356191.60   88440.99   \n",
       "min         1.00      1.00   300.00 33340620.00 -119475265.00     236.00   \n",
       "25%         2.00      3.00  1263.00 33827385.00 -118399974.00    5595.00   \n",
       "50%         2.00      3.00  1650.00 34025724.00 -118153327.00    6795.00   \n",
       "75%         3.00      4.00  2290.00 34189058.00 -117930191.00    8720.00   \n",
       "max        10.00     12.00 11020.00 34818767.00 -117554636.00 6971010.00   \n",
       "\n",
       "       regionidcity  roomcnt  yearbuilt  structuretaxvalue   taxvalue  \\\n",
       "count      29089.00 29089.00   29089.00           29089.00   29089.00   \n",
       "mean       33312.43     1.90    1963.21          186578.14  493449.33   \n",
       "std        49554.57     3.14      23.02          196723.79  502157.07   \n",
       "min         3491.00     0.00    1880.00             148.00    3254.00   \n",
       "25%        12447.00     0.00    1950.00           76088.00  190372.00   \n",
       "50%        24435.00     0.00    1960.00          130000.00  369000.00   \n",
       "75%        40227.00     5.00    1979.00          223152.00  609149.00   \n",
       "max       396556.00    14.00    2016.00         3316500.00 4993132.00   \n",
       "\n",
       "       landtaxvalue  taxamount  logerror  los_angeles   orange  ventura  \\\n",
       "count      29089.00   29089.00  29089.00     29089.00 29089.00 29089.00   \n",
       "mean      306871.19    6028.09      0.02         0.65     0.27     0.08   \n",
       "std       357883.45    5789.82      0.17         0.48     0.44     0.28   \n",
       "min          161.00      49.00     -4.66         0.00     0.00     0.00   \n",
       "25%        74077.00    2610.00     -0.02         0.00     0.00     0.00   \n",
       "50%       214625.00    4594.00      0.01         1.00     0.00     0.00   \n",
       "75%       402000.00    7272.00      0.04         1.00     1.00     0.00   \n",
       "max      4847224.00   59247.00      3.39         1.00     1.00     1.00   \n",
       "\n",
       "           age  bath_bed_ratio  \n",
       "count 29089.00        29089.00  \n",
       "mean     53.79            0.70  \n",
       "std      23.02            0.24  \n",
       "min       1.00            0.20  \n",
       "25%      38.00            0.50  \n",
       "50%      57.00            0.67  \n",
       "75%      67.00            0.80  \n",
       "max     137.00            7.50  "
      ]
     },
     "execution_count": 7,
     "metadata": {},
     "output_type": "execute_result"
    }
   ],
   "source": [
    "train.describe()"
   ]
  },
  {
   "cell_type": "code",
   "execution_count": 26,
   "id": "9dd4b6a0",
   "metadata": {},
   "outputs": [
    {
     "data": {
      "text/plain": [
       "61675    los_angeles\n",
       "7581     los_angeles\n",
       "48630    los_angeles\n",
       "66151        ventura\n",
       "38789         orange\n",
       "            ...     \n",
       "13961    los_angeles\n",
       "38593    los_angeles\n",
       "73204    los_angeles\n",
       "32397         orange\n",
       "31495    los_angeles\n",
       "Name: counties, Length: 29089, dtype: object"
      ]
     },
     "execution_count": 26,
     "metadata": {},
     "output_type": "execute_result"
    }
   ],
   "source": [
    "train.counties\n"
   ]
  },
  {
   "cell_type": "code",
   "execution_count": 8,
   "id": "abf0adc1",
   "metadata": {},
   "outputs": [
    {
     "data": {
      "text/plain": [
       "(29089, 24)"
      ]
     },
     "execution_count": 8,
     "metadata": {},
     "output_type": "execute_result"
    }
   ],
   "source": [
    "train.shape\n"
   ]
  },
  {
   "cell_type": "code",
   "execution_count": 9,
   "id": "45acb565",
   "metadata": {},
   "outputs": [
    {
     "data": {
      "text/plain": [
       "count   29089.00\n",
       "mean        0.02\n",
       "std         0.17\n",
       "min        -4.66\n",
       "25%        -0.02\n",
       "50%         0.01\n",
       "75%         0.04\n",
       "max         3.39\n",
       "Name: logerror, dtype: float64"
      ]
     },
     "execution_count": 9,
     "metadata": {},
     "output_type": "execute_result"
    }
   ],
   "source": [
    "train.logerror.describe()"
   ]
  },
  {
   "cell_type": "code",
   "execution_count": 10,
   "id": "12bf4b0f",
   "metadata": {},
   "outputs": [
    {
     "data": {
      "text/plain": [
       "Index(['bathrooms', 'bedrooms', 'area', 'counties', 'latitude', 'longitude',\n",
       "       'lot_area', 'regionidcity', 'regionidcounty', 'regionidzip', 'roomcnt',\n",
       "       'yearbuilt', 'structuretaxvalue', 'taxvalue', 'assessmentyear',\n",
       "       'landtaxvalue', 'taxamount', 'logerror', 'transactiondate',\n",
       "       'los_angeles', 'orange', 'ventura', 'age', 'bath_bed_ratio'],\n",
       "      dtype='object')"
      ]
     },
     "execution_count": 10,
     "metadata": {},
     "output_type": "execute_result"
    }
   ],
   "source": [
    "train.columns"
   ]
  },
  {
   "cell_type": "code",
   "execution_count": 11,
   "id": "0eb0948a",
   "metadata": {},
   "outputs": [
    {
     "data": {
      "text/plain": [
       "61675    los_angeles\n",
       "7581     los_angeles\n",
       "48630    los_angeles\n",
       "66151        ventura\n",
       "38789         orange\n",
       "Name: counties, dtype: object"
      ]
     },
     "execution_count": 11,
     "metadata": {},
     "output_type": "execute_result"
    }
   ],
   "source": [
    "train.counties.head()"
   ]
  },
  {
   "cell_type": "code",
   "execution_count": 12,
   "id": "152bb59e",
   "metadata": {},
   "outputs": [
    {
     "data": {
      "text/plain": [
       "61675   0.01\n",
       "7581    0.42\n",
       "48630   0.04\n",
       "66151   0.02\n",
       "38789   0.01\n",
       "Name: logerror, dtype: float64"
      ]
     },
     "execution_count": 12,
     "metadata": {},
     "output_type": "execute_result"
    }
   ],
   "source": [
    "train.logerror.head()"
   ]
  },
  {
   "cell_type": "code",
   "execution_count": null,
   "id": "bfdf50a8",
   "metadata": {},
   "outputs": [],
   "source": []
  },
  {
   "cell_type": "code",
   "execution_count": 13,
   "id": "d3df40a7",
   "metadata": {},
   "outputs": [
    {
     "data": {
      "text/plain": [
       "<AxesSubplot:ylabel='Frequency'>"
      ]
     },
     "execution_count": 13,
     "metadata": {},
     "output_type": "execute_result"
    },
    {
     "data": {
      "image/png": "[encoded data removed]",
      "text/plain": [
       "<Figure size 432x288 with 1 Axes>"
      ]
     },
     "metadata": {
      "needs_background": "light"
     },
     "output_type": "display_data"
    }
   ],
   "source": [
    "train.logerror.plot.hist()"
   ]
  },
  {
   "cell_type": "code",
   "execution_count": 14,
   "id": "ebc05bd2",
   "metadata": {},
   "outputs": [
    {
     "data": {
      "image/png": "[encoded data removed]",
      "text/plain": [
       "<Figure size 432x288 with 1 Axes>"
      ]
     },
     "metadata": {
      "needs_background": "light"
     },
     "output_type": "display_data"
    }
   ],
   "source": [
    "train.counties.value_counts().plot.barh()\n",
    "plt.title('Distrbution of houses per county')\n",
    "plt.ylabel('County')\n",
    "plt.xlabel('Count')\n",
    "plt.show()"
   ]
  },
  {
   "cell_type": "code",
   "execution_count": 15,
   "id": "38452e5a",
   "metadata": {},
   "outputs": [
    {
     "data": {
      "image/png": "[encoded data removed]",
      "text/plain": [
       "<Figure size 432x288 with 1 Axes>"
      ]
     },
     "metadata": {
      "needs_background": "light"
     },
     "output_type": "display_data"
    }
   ],
   "source": [
    "sns.violinplot(data=train, y='logerror', x='counties')\n",
    "plt.title('Violin distribution of logerror and county')\n",
    "plt.show()"
   ]
  },
  {
   "cell_type": "code",
   "execution_count": 16,
   "id": "5c98b046",
   "metadata": {},
   "outputs": [
    {
     "data": {
      "image/png": "[encoded data removed]",
      "text/plain": [
       "<Figure size 432x288 with 1 Axes>"
      ]
     },
     "metadata": {
      "needs_background": "light"
     },
     "output_type": "display_data"
    }
   ],
   "source": [
    "sns.boxplot(data=train, y='logerror', x='counties')\n",
    "plt.title(\"Is there a difference in log error between counties?\")\n",
    "plt.show()"
   ]
  },
  {
   "cell_type": "code",
   "execution_count": 17,
   "id": "256a516e",
   "metadata": {},
   "outputs": [
    {
     "data": {
      "image/png": "[encoded data removed]",
      "text/plain": [
       "<Figure size 432x288 with 1 Axes>"
      ]
     },
     "metadata": {
      "needs_background": "light"
     },
     "output_type": "display_data"
    }
   ],
   "source": [
    "sns.barplot(data=train, y='logerror', x='counties')\n",
    "plt.title(\"Is there a difference in log error between counties?\")\n",
    "plt.show()\n"
   ]
  },
  {
   "cell_type": "markdown",
   "id": "27ffcec5",
   "metadata": {},
   "source": []
  },
  {
   "cell_type": "markdown",
   "id": "1cfddcc9",
   "metadata": {},
   "source": []
  },
  {
   "cell_type": "code",
   "execution_count": 19,
   "id": "5ca7570d",
   "metadata": {},
   "outputs": [
    {
     "data": {
      "text/plain": [
       "Index(['bathrooms', 'bedrooms', 'area', 'counties', 'latitude', 'longitude',\n",
       "       'lot_area', 'regionidcity', 'regionidcounty', 'regionidzip', 'roomcnt',\n",
       "       'yearbuilt', 'structuretaxvalue', 'taxvalue', 'assessmentyear',\n",
       "       'landtaxvalue', 'taxamount', 'logerror', 'transactiondate',\n",
       "       'los_angeles', 'orange', 'ventura', 'age', 'bath_bed_ratio'],\n",
       "      dtype='object')"
      ]
     },
     "execution_count": 19,
     "metadata": {},
     "output_type": "execute_result"
    }
   ],
   "source": [
    "train.columns\n"
   ]
  },
  {
   "cell_type": "markdown",
   "id": "6640ec5f",
   "metadata": {},
   "source": [
    "Levene's Test: test for equal variance"
   ]
  },
  {
   "cell_type": "markdown",
   "id": "0d00a014",
   "metadata": {},
   "source": [
    "Null Hypothesis: there is no difference in log errors variance between the three samples\n",
    "Alternaive Hypothesis: there is a difference in log errors variance between the three samples"
   ]
  },
  {
   "cell_type": "code",
   "execution_count": 28,
   "id": "751478b7",
   "metadata": {},
   "outputs": [
    {
     "data": {
      "text/plain": [
       "LeveneResult(statistic=29.37455633525709, pvalue=1.7782850348343056e-13)"
      ]
     },
     "execution_count": 28,
     "metadata": {},
     "output_type": "execute_result"
    }
   ],
   "source": [
    "stats.levene(\n",
    "    df[df.counties == 'los_angeles'].logerror,\n",
    "    df[df.counties == 'orange'].logerror,\n",
    "    df[df.counties == 'ventura'].logerror,\n",
    ")"
   ]
  },
  {
   "cell_type": "code",
   "execution_count": 27,
   "id": "8c72e01a",
   "metadata": {},
   "outputs": [
    {
     "data": {
      "text/plain": [
       "3       -0.10\n",
       "6       -0.00\n",
       "7        0.10\n",
       "8       -0.04\n",
       "10       0.01\n",
       "         ... \n",
       "77374    0.00\n",
       "77376    0.02\n",
       "77378    0.04\n",
       "77379    0.01\n",
       "77380   -0.20\n",
       "Name: logerror, Length: 33581, dtype: float64"
      ]
     },
     "execution_count": 27,
     "metadata": {},
     "output_type": "execute_result"
    }
   ],
   "source": [
    "df[df.counties == 'los_angeles'].logerror"
   ]
  },
  {
   "cell_type": "markdown",
   "id": "a793f819",
   "metadata": {},
   "source": [
    "Bonus:\n",
    "\n",
    "Compute the mean(logerror) by zipcode and the overall mean(logerror). Write a loop that will run a t-test between the overall mean and the mean for each zip code. We want to identify the zip codes where the error is significantly higher or lower than the expected error."
   ]
  },
  {
   "cell_type": "code",
   "execution_count": null,
   "id": "4f7da324",
   "metadata": {},
   "outputs": [],
   "source": []
  },
  {
   "cell_type": "code",
   "execution_count": null,
   "id": "536046e2",
   "metadata": {},
   "outputs": [],
   "source": []
  },
  {
   "cell_type": "code",
   "execution_count": null,
   "id": "cc783be8",
   "metadata": {},
   "outputs": [],
   "source": []
  }
 ],
 "metadata": {
  "kernelspec": {
   "display_name": "Python 3",
   "language": "python",
   "name": "python3"
  },
  "language_info": {
   "codemirror_mode": {
    "name": "ipython",
    "version": 3
   },
   "file_extension": ".py",
   "mimetype": "text/x-python",
   "name": "python",
   "nbconvert_exporter": "python",
   "pygments_lexer": "ipython3",
   "version": "3.8.8"
  }
 },
 "nbformat": 4,
 "nbformat_minor": 5
}
