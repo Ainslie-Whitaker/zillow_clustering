{
 "cells": [
  {
   "cell_type": "markdown",
   "id": "2332e22d",
   "metadata": {},
   "source": [
    "# Zillow"
   ]
  },
  {
   "cell_type": "markdown",
   "id": "97e3025d",
   "metadata": {},
   "source": [
    "## Exploratory Analysis of Zillow Data"
   ]
  },
  {
   "cell_type": "code",
   "execution_count": 1,
   "id": "c5507867",
   "metadata": {},
   "outputs": [],
   "source": [
    "import numpy as np\n",
    "import pandas as pd\n",
    "\n",
    "# Visualizing\n",
    "%matplotlib inline\n",
    "import matplotlib.pyplot as plt\n",
    "import seaborn as sns\n",
    "\n",
    "# default pandas decimal number display format\n",
    "pd.options.display.float_format = '{:.2f}'.format\n",
    "\n",
    "# Split \n",
    "from sklearn.model_selection import train_test_split\n",
    "\n",
    "# Scale\n",
    "from sklearn.preprocessing import MinMaxScaler\n",
    "\n",
    "# Stats\n",
    "import scipy.stats as stats\n",
    "\n",
    "# Ignore Warnings\n",
    "import warnings\n",
    "warnings.filterwarnings(\"ignore\")\n",
    "\n",
    "#My Files\n",
    "import env\n",
    "from wrangle_zillow import *"
   ]
  },
  {
   "cell_type": "markdown",
   "id": "848cec18",
   "metadata": {},
   "source": [
    "Can leave unscaled for exploration, but scale before modeling!!\n"
   ]
  },
  {
   "cell_type": "code",
   "execution_count": 2,
   "id": "12931f48",
   "metadata": {},
   "outputs": [
    {
     "data": {
      "text/html": [
       "<div>\n",
       "<style scoped>\n",
       "    .dataframe tbody tr th:only-of-type {\n",
       "        vertical-align: middle;\n",
       "    }\n",
       "\n",
       "    .dataframe tbody tr th {\n",
       "        vertical-align: top;\n",
       "    }\n",
       "\n",
       "    .dataframe thead th {\n",
       "        text-align: right;\n",
       "    }\n",
       "</style>\n",
       "<table border=\"1\" class=\"dataframe\">\n",
       "  <thead>\n",
       "    <tr style=\"text-align: right;\">\n",
       "      <th></th>\n",
       "      <th>parcelid</th>\n",
       "      <th>bathroomcnt</th>\n",
       "      <th>bedroomcnt</th>\n",
       "      <th>buildingqualitytypeid</th>\n",
       "      <th>calculatedfinishedsquarefeet</th>\n",
       "      <th>fips</th>\n",
       "      <th>latitude</th>\n",
       "      <th>longitude</th>\n",
       "      <th>lotsizesquarefeet</th>\n",
       "      <th>rawcensustractandblock</th>\n",
       "      <th>...</th>\n",
       "      <th>roomcnt</th>\n",
       "      <th>yearbuilt</th>\n",
       "      <th>structuretaxvaluedollarcnt</th>\n",
       "      <th>taxvaluedollarcnt</th>\n",
       "      <th>assessmentyear</th>\n",
       "      <th>landtaxvaluedollarcnt</th>\n",
       "      <th>taxamount</th>\n",
       "      <th>logerror</th>\n",
       "      <th>transactiondate</th>\n",
       "      <th>county</th>\n",
       "    </tr>\n",
       "  </thead>\n",
       "  <tbody>\n",
       "    <tr>\n",
       "      <th>0</th>\n",
       "      <td>14297519</td>\n",
       "      <td>3.50</td>\n",
       "      <td>4.00</td>\n",
       "      <td>6.00</td>\n",
       "      <td>3100.00</td>\n",
       "      <td>6059.00</td>\n",
       "      <td>33634931.00</td>\n",
       "      <td>-117869207.00</td>\n",
       "      <td>4506.00</td>\n",
       "      <td>60590630.07</td>\n",
       "      <td>...</td>\n",
       "      <td>0.00</td>\n",
       "      <td>1998.00</td>\n",
       "      <td>485713.00</td>\n",
       "      <td>1023282.00</td>\n",
       "      <td>2016.00</td>\n",
       "      <td>537569.00</td>\n",
       "      <td>11013.72</td>\n",
       "      <td>0.03</td>\n",
       "      <td>2017-01-01</td>\n",
       "      <td>Orange</td>\n",
       "    </tr>\n",
       "    <tr>\n",
       "      <th>1</th>\n",
       "      <td>17052889</td>\n",
       "      <td>1.00</td>\n",
       "      <td>2.00</td>\n",
       "      <td>6.00</td>\n",
       "      <td>1465.00</td>\n",
       "      <td>6111.00</td>\n",
       "      <td>34449266.00</td>\n",
       "      <td>-119281531.00</td>\n",
       "      <td>12647.00</td>\n",
       "      <td>61110010.02</td>\n",
       "      <td>...</td>\n",
       "      <td>5.00</td>\n",
       "      <td>1967.00</td>\n",
       "      <td>88000.00</td>\n",
       "      <td>464000.00</td>\n",
       "      <td>2016.00</td>\n",
       "      <td>376000.00</td>\n",
       "      <td>5672.48</td>\n",
       "      <td>0.06</td>\n",
       "      <td>2017-01-01</td>\n",
       "      <td>Ventura</td>\n",
       "    </tr>\n",
       "    <tr>\n",
       "      <th>2</th>\n",
       "      <td>14186244</td>\n",
       "      <td>2.00</td>\n",
       "      <td>3.00</td>\n",
       "      <td>6.00</td>\n",
       "      <td>1243.00</td>\n",
       "      <td>6059.00</td>\n",
       "      <td>33886168.00</td>\n",
       "      <td>-117823170.00</td>\n",
       "      <td>8432.00</td>\n",
       "      <td>60590218.02</td>\n",
       "      <td>...</td>\n",
       "      <td>6.00</td>\n",
       "      <td>1962.00</td>\n",
       "      <td>85289.00</td>\n",
       "      <td>564778.00</td>\n",
       "      <td>2016.00</td>\n",
       "      <td>479489.00</td>\n",
       "      <td>6488.30</td>\n",
       "      <td>0.01</td>\n",
       "      <td>2017-01-01</td>\n",
       "      <td>Orange</td>\n",
       "    </tr>\n",
       "    <tr>\n",
       "      <th>3</th>\n",
       "      <td>12177905</td>\n",
       "      <td>3.00</td>\n",
       "      <td>4.00</td>\n",
       "      <td>8.00</td>\n",
       "      <td>2376.00</td>\n",
       "      <td>6037.00</td>\n",
       "      <td>34245180.00</td>\n",
       "      <td>-118240722.00</td>\n",
       "      <td>13038.00</td>\n",
       "      <td>60373001.00</td>\n",
       "      <td>...</td>\n",
       "      <td>0.00</td>\n",
       "      <td>1970.00</td>\n",
       "      <td>108918.00</td>\n",
       "      <td>145143.00</td>\n",
       "      <td>2016.00</td>\n",
       "      <td>36225.00</td>\n",
       "      <td>1777.51</td>\n",
       "      <td>-0.10</td>\n",
       "      <td>2017-01-01</td>\n",
       "      <td>Los Angeles</td>\n",
       "    </tr>\n",
       "    <tr>\n",
       "      <th>6</th>\n",
       "      <td>12095076</td>\n",
       "      <td>3.00</td>\n",
       "      <td>4.00</td>\n",
       "      <td>9.00</td>\n",
       "      <td>2962.00</td>\n",
       "      <td>6037.00</td>\n",
       "      <td>34145202.00</td>\n",
       "      <td>-118179824.00</td>\n",
       "      <td>63000.00</td>\n",
       "      <td>60374608.00</td>\n",
       "      <td>...</td>\n",
       "      <td>0.00</td>\n",
       "      <td>1950.00</td>\n",
       "      <td>276684.00</td>\n",
       "      <td>773303.00</td>\n",
       "      <td>2016.00</td>\n",
       "      <td>496619.00</td>\n",
       "      <td>9516.26</td>\n",
       "      <td>-0.00</td>\n",
       "      <td>2017-01-01</td>\n",
       "      <td>Los Angeles</td>\n",
       "    </tr>\n",
       "  </tbody>\n",
       "</table>\n",
       "<p>5 rows × 23 columns</p>\n",
       "</div>"
      ],
      "text/plain": [
       "   parcelid  bathroomcnt  bedroomcnt  buildingqualitytypeid  \\\n",
       "0  14297519         3.50        4.00                   6.00   \n",
       "1  17052889         1.00        2.00                   6.00   \n",
       "2  14186244         2.00        3.00                   6.00   \n",
       "3  12177905         3.00        4.00                   8.00   \n",
       "6  12095076         3.00        4.00                   9.00   \n",
       "\n",
       "   calculatedfinishedsquarefeet    fips    latitude     longitude  \\\n",
       "0                       3100.00 6059.00 33634931.00 -117869207.00   \n",
       "1                       1465.00 6111.00 34449266.00 -119281531.00   \n",
       "2                       1243.00 6059.00 33886168.00 -117823170.00   \n",
       "3                       2376.00 6037.00 34245180.00 -118240722.00   \n",
       "6                       2962.00 6037.00 34145202.00 -118179824.00   \n",
       "\n",
       "   lotsizesquarefeet  rawcensustractandblock  ...  roomcnt  yearbuilt  \\\n",
       "0            4506.00             60590630.07  ...     0.00    1998.00   \n",
       "1           12647.00             61110010.02  ...     5.00    1967.00   \n",
       "2            8432.00             60590218.02  ...     6.00    1962.00   \n",
       "3           13038.00             60373001.00  ...     0.00    1970.00   \n",
       "6           63000.00             60374608.00  ...     0.00    1950.00   \n",
       "\n",
       "   structuretaxvaluedollarcnt  taxvaluedollarcnt  assessmentyear  \\\n",
       "0                   485713.00         1023282.00         2016.00   \n",
       "1                    88000.00          464000.00         2016.00   \n",
       "2                    85289.00          564778.00         2016.00   \n",
       "3                   108918.00          145143.00         2016.00   \n",
       "6                   276684.00          773303.00         2016.00   \n",
       "\n",
       "   landtaxvaluedollarcnt  taxamount  logerror  transactiondate       county  \n",
       "0              537569.00   11013.72      0.03       2017-01-01       Orange  \n",
       "1              376000.00    5672.48      0.06       2017-01-01      Ventura  \n",
       "2              479489.00    6488.30      0.01       2017-01-01       Orange  \n",
       "3               36225.00    1777.51     -0.10       2017-01-01  Los Angeles  \n",
       "6              496619.00    9516.26     -0.00       2017-01-01  Los Angeles  \n",
       "\n",
       "[5 rows x 23 columns]"
      ]
     },
     "execution_count": 2,
     "metadata": {},
     "output_type": "execute_result"
    }
   ],
   "source": [
    "# aquire zillow data using function from wrangle_zillow\n",
    "df = wrangle_zillow()\n",
    "df.head()"
   ]
  },
  {
   "cell_type": "code",
   "execution_count": 3,
   "id": "1a87899f",
   "metadata": {},
   "outputs": [],
   "source": [
    "# split data using function from\n",
    "train, validate, test = split_data(df)"
   ]
  },
  {
   "cell_type": "code",
   "execution_count": 4,
   "id": "e972908a",
   "metadata": {},
   "outputs": [],
   "source": [
    "# scaler, train_scaled, validate_scaled, test_scaled = min_max_scaler(train, validate, test)"
   ]
  },
  {
   "cell_type": "code",
   "execution_count": 5,
   "id": "c292fc3f",
   "metadata": {},
   "outputs": [],
   "source": [
    "# train_scaled.head()"
   ]
  },
  {
   "cell_type": "markdown",
   "id": "306157b6",
   "metadata": {},
   "source": [
    "1. Ask at least 5 questions about the data, keeping in mind that your target variable is logerror. e.g. Is logerror significantly different for properties in LA County vs Orange County vs Ventura County?"
   ]
  },
  {
   "cell_type": "markdown",
   "id": "7ecbfaea",
   "metadata": {},
   "source": [
    "#### Notes: "
   ]
  },
  {
   "cell_type": "markdown",
   "id": "d31c97fa",
   "metadata": {},
   "source": [
    "target = logerror"
   ]
  },
  {
   "cell_type": "markdown",
   "id": "03860a27",
   "metadata": {},
   "source": [
    "log_error = difference of log(Zestimate) and log(SalePrice)"
   ]
  },
  {
   "cell_type": "markdown",
   "id": "66de4441",
   "metadata": {},
   "source": [
    "Q: Why did Zillow pick the log error instead of an absolute error metric such as RMSE?\n",
    "\n",
    "Home sale prices have a right skewed distribution and are also strongly heteroscedastic, so we need to use a relative error metric instead of an absolute metric to ensure valuation models are not biased towards expensive homes. A relative error metric like the percentage error or log ratio error avoids these problems. While we report Zestimate errors in terms of percentages on Zillow.com because we believe that to be a more intuitive metric for consumers, we do not advocate using percentage error to evaluate models in Zillow Prize, as it may lead to biased models The log error is free of this bias problem and when using the natural logarithm, errors close to 1 approximate percentage errors quite closely. See this paper for more on relative errors and why log error should be used instead of percentage error.\n",
    "\n",
    "https://papers.ssrn.com/sol3/papers.cfm?abstract_id=2635088"
   ]
  },
  {
   "cell_type": "markdown",
   "id": "25bf7202",
   "metadata": {},
   "source": [
    "#### Questions: "
   ]
  },
  {
   "cell_type": "markdown",
   "id": "54a2d80e",
   "metadata": {},
   "source": [
    "1. Is logerror significantly different for properties in LA County vs Orange County vs Ventura County?\n",
    "2. \n",
    "3. \n",
    "4. \n",
    "5. "
   ]
  },
  {
   "cell_type": "markdown",
   "id": "29a1b574",
   "metadata": {},
   "source": [
    "2. Answer those questions through a mix of statistical tests and visualizations."
   ]
  },
  {
   "cell_type": "markdown",
   "id": "783bc1e6",
   "metadata": {},
   "source": [
    "Question 1: \n",
    "\n",
    "Is logerror significantly different for properties in LA County vs Orange County vs Ventura County?\n",
    "\n",
    "Orange county has a greater log error than L.A. and Ventura counties; Ventura having the lowest log error. The mean log error is 0.02. L.A. and Ventura are below the average and Orange County is above the average log error. They are all very similar however. "
   ]
  },
  {
   "cell_type": "code",
   "execution_count": 6,
   "id": "50bcf0d8",
   "metadata": {},
   "outputs": [
    {
     "data": {
      "text/html": [
       "<div>\n",
       "<style scoped>\n",
       "    .dataframe tbody tr th:only-of-type {\n",
       "        vertical-align: middle;\n",
       "    }\n",
       "\n",
       "    .dataframe tbody tr th {\n",
       "        vertical-align: top;\n",
       "    }\n",
       "\n",
       "    .dataframe thead th {\n",
       "        text-align: right;\n",
       "    }\n",
       "</style>\n",
       "<table border=\"1\" class=\"dataframe\">\n",
       "  <thead>\n",
       "    <tr style=\"text-align: right;\">\n",
       "      <th></th>\n",
       "      <th>parcelid</th>\n",
       "      <th>bathroomcnt</th>\n",
       "      <th>bedroomcnt</th>\n",
       "      <th>buildingqualitytypeid</th>\n",
       "      <th>calculatedfinishedsquarefeet</th>\n",
       "      <th>fips</th>\n",
       "      <th>latitude</th>\n",
       "      <th>longitude</th>\n",
       "      <th>lotsizesquarefeet</th>\n",
       "      <th>rawcensustractandblock</th>\n",
       "      <th>...</th>\n",
       "      <th>regionidcounty</th>\n",
       "      <th>regionidzip</th>\n",
       "      <th>roomcnt</th>\n",
       "      <th>yearbuilt</th>\n",
       "      <th>structuretaxvaluedollarcnt</th>\n",
       "      <th>taxvaluedollarcnt</th>\n",
       "      <th>assessmentyear</th>\n",
       "      <th>landtaxvaluedollarcnt</th>\n",
       "      <th>taxamount</th>\n",
       "      <th>logerror</th>\n",
       "    </tr>\n",
       "  </thead>\n",
       "  <tbody>\n",
       "    <tr>\n",
       "      <th>count</th>\n",
       "      <td>29089.00</td>\n",
       "      <td>29089.00</td>\n",
       "      <td>29089.00</td>\n",
       "      <td>29089.00</td>\n",
       "      <td>29089.00</td>\n",
       "      <td>29089.00</td>\n",
       "      <td>29089.00</td>\n",
       "      <td>29089.00</td>\n",
       "      <td>29089.00</td>\n",
       "      <td>29089.00</td>\n",
       "      <td>...</td>\n",
       "      <td>29089.00</td>\n",
       "      <td>29089.00</td>\n",
       "      <td>29089.00</td>\n",
       "      <td>29089.00</td>\n",
       "      <td>29089.00</td>\n",
       "      <td>29089.00</td>\n",
       "      <td>29089.00</td>\n",
       "      <td>29089.00</td>\n",
       "      <td>29089.00</td>\n",
       "      <td>29089.00</td>\n",
       "    </tr>\n",
       "    <tr>\n",
       "      <th>mean</th>\n",
       "      <td>12947269.09</td>\n",
       "      <td>2.28</td>\n",
       "      <td>3.30</td>\n",
       "      <td>6.16</td>\n",
       "      <td>1899.37</td>\n",
       "      <td>6049.14</td>\n",
       "      <td>34024104.39</td>\n",
       "      <td>-118193863.72</td>\n",
       "      <td>11306.04</td>\n",
       "      <td>60494472.00</td>\n",
       "      <td>...</td>\n",
       "      <td>2525.41</td>\n",
       "      <td>96629.80</td>\n",
       "      <td>1.90</td>\n",
       "      <td>1963.21</td>\n",
       "      <td>186578.14</td>\n",
       "      <td>493449.33</td>\n",
       "      <td>2016.00</td>\n",
       "      <td>306871.19</td>\n",
       "      <td>6028.58</td>\n",
       "      <td>0.02</td>\n",
       "    </tr>\n",
       "    <tr>\n",
       "      <th>std</th>\n",
       "      <td>1950481.77</td>\n",
       "      <td>0.98</td>\n",
       "      <td>0.93</td>\n",
       "      <td>1.37</td>\n",
       "      <td>938.98</td>\n",
       "      <td>21.05</td>\n",
       "      <td>274310.86</td>\n",
       "      <td>356191.60</td>\n",
       "      <td>88440.99</td>\n",
       "      <td>208918.38</td>\n",
       "      <td>...</td>\n",
       "      <td>803.53</td>\n",
       "      <td>4373.09</td>\n",
       "      <td>3.14</td>\n",
       "      <td>23.02</td>\n",
       "      <td>196723.79</td>\n",
       "      <td>502157.07</td>\n",
       "      <td>0.00</td>\n",
       "      <td>357883.45</td>\n",
       "      <td>5789.82</td>\n",
       "      <td>0.17</td>\n",
       "    </tr>\n",
       "    <tr>\n",
       "      <th>min</th>\n",
       "      <td>10711855.00</td>\n",
       "      <td>1.00</td>\n",
       "      <td>1.00</td>\n",
       "      <td>1.00</td>\n",
       "      <td>300.00</td>\n",
       "      <td>6037.00</td>\n",
       "      <td>33340620.00</td>\n",
       "      <td>-119475265.00</td>\n",
       "      <td>236.00</td>\n",
       "      <td>60371011.10</td>\n",
       "      <td>...</td>\n",
       "      <td>1286.00</td>\n",
       "      <td>95982.00</td>\n",
       "      <td>0.00</td>\n",
       "      <td>1880.00</td>\n",
       "      <td>148.00</td>\n",
       "      <td>3254.00</td>\n",
       "      <td>2016.00</td>\n",
       "      <td>161.00</td>\n",
       "      <td>49.18</td>\n",
       "      <td>-4.66</td>\n",
       "    </tr>\n",
       "    <tr>\n",
       "      <th>25%</th>\n",
       "      <td>11502542.00</td>\n",
       "      <td>2.00</td>\n",
       "      <td>3.00</td>\n",
       "      <td>6.00</td>\n",
       "      <td>1263.00</td>\n",
       "      <td>6037.00</td>\n",
       "      <td>33827385.00</td>\n",
       "      <td>-118399974.00</td>\n",
       "      <td>5595.00</td>\n",
       "      <td>60374008.00</td>\n",
       "      <td>...</td>\n",
       "      <td>1286.00</td>\n",
       "      <td>96208.00</td>\n",
       "      <td>0.00</td>\n",
       "      <td>1950.00</td>\n",
       "      <td>76088.00</td>\n",
       "      <td>190372.00</td>\n",
       "      <td>2016.00</td>\n",
       "      <td>74077.00</td>\n",
       "      <td>2610.70</td>\n",
       "      <td>-0.02</td>\n",
       "    </tr>\n",
       "    <tr>\n",
       "      <th>50%</th>\n",
       "      <td>12576262.00</td>\n",
       "      <td>2.00</td>\n",
       "      <td>3.00</td>\n",
       "      <td>6.00</td>\n",
       "      <td>1650.00</td>\n",
       "      <td>6037.00</td>\n",
       "      <td>34025724.00</td>\n",
       "      <td>-118153327.00</td>\n",
       "      <td>6795.00</td>\n",
       "      <td>60376037.02</td>\n",
       "      <td>...</td>\n",
       "      <td>3101.00</td>\n",
       "      <td>96412.00</td>\n",
       "      <td>0.00</td>\n",
       "      <td>1960.00</td>\n",
       "      <td>130000.00</td>\n",
       "      <td>369000.00</td>\n",
       "      <td>2016.00</td>\n",
       "      <td>214625.00</td>\n",
       "      <td>4594.88</td>\n",
       "      <td>0.01</td>\n",
       "    </tr>\n",
       "    <tr>\n",
       "      <th>75%</th>\n",
       "      <td>14129435.00</td>\n",
       "      <td>3.00</td>\n",
       "      <td>4.00</td>\n",
       "      <td>7.00</td>\n",
       "      <td>2290.00</td>\n",
       "      <td>6059.00</td>\n",
       "      <td>34189058.00</td>\n",
       "      <td>-117930191.00</td>\n",
       "      <td>8720.00</td>\n",
       "      <td>60590423.27</td>\n",
       "      <td>...</td>\n",
       "      <td>3101.00</td>\n",
       "      <td>96995.00</td>\n",
       "      <td>5.00</td>\n",
       "      <td>1979.00</td>\n",
       "      <td>223152.00</td>\n",
       "      <td>609149.00</td>\n",
       "      <td>2016.00</td>\n",
       "      <td>402000.00</td>\n",
       "      <td>7272.74</td>\n",
       "      <td>0.04</td>\n",
       "    </tr>\n",
       "    <tr>\n",
       "      <th>max</th>\n",
       "      <td>162960596.00</td>\n",
       "      <td>10.00</td>\n",
       "      <td>12.00</td>\n",
       "      <td>12.00</td>\n",
       "      <td>11020.00</td>\n",
       "      <td>6111.00</td>\n",
       "      <td>34818767.00</td>\n",
       "      <td>-117554636.00</td>\n",
       "      <td>6971010.00</td>\n",
       "      <td>61110091.00</td>\n",
       "      <td>...</td>\n",
       "      <td>3101.00</td>\n",
       "      <td>399675.00</td>\n",
       "      <td>14.00</td>\n",
       "      <td>2016.00</td>\n",
       "      <td>3316500.00</td>\n",
       "      <td>4993132.00</td>\n",
       "      <td>2016.00</td>\n",
       "      <td>4847224.00</td>\n",
       "      <td>59247.88</td>\n",
       "      <td>3.39</td>\n",
       "    </tr>\n",
       "  </tbody>\n",
       "</table>\n",
       "<p>8 rows × 21 columns</p>\n",
       "</div>"
      ],
      "text/plain": [
       "          parcelid  bathroomcnt  bedroomcnt  buildingqualitytypeid  \\\n",
       "count     29089.00     29089.00    29089.00               29089.00   \n",
       "mean   12947269.09         2.28        3.30                   6.16   \n",
       "std     1950481.77         0.98        0.93                   1.37   \n",
       "min    10711855.00         1.00        1.00                   1.00   \n",
       "25%    11502542.00         2.00        3.00                   6.00   \n",
       "50%    12576262.00         2.00        3.00                   6.00   \n",
       "75%    14129435.00         3.00        4.00                   7.00   \n",
       "max   162960596.00        10.00       12.00                  12.00   \n",
       "\n",
       "       calculatedfinishedsquarefeet     fips    latitude     longitude  \\\n",
       "count                      29089.00 29089.00    29089.00      29089.00   \n",
       "mean                        1899.37  6049.14 34024104.39 -118193863.72   \n",
       "std                          938.98    21.05   274310.86     356191.60   \n",
       "min                          300.00  6037.00 33340620.00 -119475265.00   \n",
       "25%                         1263.00  6037.00 33827385.00 -118399974.00   \n",
       "50%                         1650.00  6037.00 34025724.00 -118153327.00   \n",
       "75%                         2290.00  6059.00 34189058.00 -117930191.00   \n",
       "max                        11020.00  6111.00 34818767.00 -117554636.00   \n",
       "\n",
       "       lotsizesquarefeet  rawcensustractandblock  ...  regionidcounty  \\\n",
       "count           29089.00                29089.00  ...        29089.00   \n",
       "mean            11306.04             60494472.00  ...         2525.41   \n",
       "std             88440.99               208918.38  ...          803.53   \n",
       "min               236.00             60371011.10  ...         1286.00   \n",
       "25%              5595.00             60374008.00  ...         1286.00   \n",
       "50%              6795.00             60376037.02  ...         3101.00   \n",
       "75%              8720.00             60590423.27  ...         3101.00   \n",
       "max           6971010.00             61110091.00  ...         3101.00   \n",
       "\n",
       "       regionidzip  roomcnt  yearbuilt  structuretaxvaluedollarcnt  \\\n",
       "count     29089.00 29089.00   29089.00                    29089.00   \n",
       "mean      96629.80     1.90    1963.21                   186578.14   \n",
       "std        4373.09     3.14      23.02                   196723.79   \n",
       "min       95982.00     0.00    1880.00                      148.00   \n",
       "25%       96208.00     0.00    1950.00                    76088.00   \n",
       "50%       96412.00     0.00    1960.00                   130000.00   \n",
       "75%       96995.00     5.00    1979.00                   223152.00   \n",
       "max      399675.00    14.00    2016.00                  3316500.00   \n",
       "\n",
       "       taxvaluedollarcnt  assessmentyear  landtaxvaluedollarcnt  taxamount  \\\n",
       "count           29089.00        29089.00               29089.00   29089.00   \n",
       "mean           493449.33         2016.00              306871.19    6028.58   \n",
       "std            502157.07            0.00              357883.45    5789.82   \n",
       "min              3254.00         2016.00                 161.00      49.18   \n",
       "25%            190372.00         2016.00               74077.00    2610.70   \n",
       "50%            369000.00         2016.00              214625.00    4594.88   \n",
       "75%            609149.00         2016.00              402000.00    7272.74   \n",
       "max           4993132.00         2016.00             4847224.00   59247.88   \n",
       "\n",
       "       logerror  \n",
       "count  29089.00  \n",
       "mean       0.02  \n",
       "std        0.17  \n",
       "min       -4.66  \n",
       "25%       -0.02  \n",
       "50%        0.01  \n",
       "75%        0.04  \n",
       "max        3.39  \n",
       "\n",
       "[8 rows x 21 columns]"
      ]
     },
     "execution_count": 6,
     "metadata": {},
     "output_type": "execute_result"
    }
   ],
   "source": [
    "train.describe()"
   ]
  },
  {
   "cell_type": "code",
   "execution_count": 14,
   "id": "abf0adc1",
   "metadata": {},
   "outputs": [
    {
     "data": {
      "text/plain": [
       "(29089, 23)"
      ]
     },
     "execution_count": 14,
     "metadata": {},
     "output_type": "execute_result"
    }
   ],
   "source": [
    "train.shape\n"
   ]
  },
  {
   "cell_type": "code",
   "execution_count": 7,
   "id": "45acb565",
   "metadata": {},
   "outputs": [
    {
     "data": {
      "text/plain": [
       "count   29089.00\n",
       "mean        0.02\n",
       "std         0.17\n",
       "min        -4.66\n",
       "25%        -0.02\n",
       "50%         0.01\n",
       "75%         0.04\n",
       "max         3.39\n",
       "Name: logerror, dtype: float64"
      ]
     },
     "execution_count": 7,
     "metadata": {},
     "output_type": "execute_result"
    }
   ],
   "source": [
    "train.logerror.describe()"
   ]
  },
  {
   "cell_type": "code",
   "execution_count": 15,
   "id": "12bf4b0f",
   "metadata": {},
   "outputs": [
    {
     "data": {
      "text/plain": [
       "Index(['parcelid', 'bathroomcnt', 'bedroomcnt', 'buildingqualitytypeid',\n",
       "       'calculatedfinishedsquarefeet', 'fips', 'latitude', 'longitude',\n",
       "       'lotsizesquarefeet', 'rawcensustractandblock', 'regionidcity',\n",
       "       'regionidcounty', 'regionidzip', 'roomcnt', 'yearbuilt',\n",
       "       'structuretaxvaluedollarcnt', 'taxvaluedollarcnt', 'assessmentyear',\n",
       "       'landtaxvaluedollarcnt', 'taxamount', 'logerror', 'transactiondate',\n",
       "       'county'],\n",
       "      dtype='object')"
      ]
     },
     "execution_count": 15,
     "metadata": {},
     "output_type": "execute_result"
    }
   ],
   "source": [
    "train.columns"
   ]
  },
  {
   "cell_type": "code",
   "execution_count": 8,
   "id": "0eb0948a",
   "metadata": {},
   "outputs": [
    {
     "data": {
      "text/plain": [
       "61675    Los Angeles\n",
       "7581     Los Angeles\n",
       "48630    Los Angeles\n",
       "66151        Ventura\n",
       "38789         Orange\n",
       "Name: county, dtype: object"
      ]
     },
     "execution_count": 8,
     "metadata": {},
     "output_type": "execute_result"
    }
   ],
   "source": [
    "train.county.head()"
   ]
  },
  {
   "cell_type": "code",
   "execution_count": 9,
   "id": "152bb59e",
   "metadata": {},
   "outputs": [
    {
     "data": {
      "text/plain": [
       "61675   0.01\n",
       "7581    0.42\n",
       "48630   0.04\n",
       "66151   0.02\n",
       "38789   0.01\n",
       "Name: logerror, dtype: float64"
      ]
     },
     "execution_count": 9,
     "metadata": {},
     "output_type": "execute_result"
    }
   ],
   "source": [
    "train.logerror.head()"
   ]
  },
  {
   "cell_type": "code",
   "execution_count": null,
   "id": "bfdf50a8",
   "metadata": {},
   "outputs": [],
   "source": []
  },
  {
   "cell_type": "code",
   "execution_count": 18,
   "id": "d3df40a7",
   "metadata": {},
   "outputs": [
    {
     "data": {
      "text/plain": [
       "<AxesSubplot:ylabel='Frequency'>"
      ]
     },
     "execution_count": 18,
     "metadata": {},
     "output_type": "execute_result"
    },
    {
     "data": {
      "image/png": "[encoded data removed]",
      "text/plain": [
       "<Figure size 432x288 with 1 Axes>"
      ]
     },
     "metadata": {
      "needs_background": "light"
     },
     "output_type": "display_data"
    }
   ],
   "source": [
    "train.logerror.plot.hist()"
   ]
  },
  {
   "cell_type": "code",
   "execution_count": 10,
   "id": "ebc05bd2",
   "metadata": {},
   "outputs": [
    {
     "data": {
      "image/png": "[encoded data removed]",
      "text/plain": [
       "<Figure size 432x288 with 1 Axes>"
      ]
     },
     "metadata": {
      "needs_background": "light"
     },
     "output_type": "display_data"
    }
   ],
   "source": [
    "train.county.value_counts().plot.barh()\n",
    "plt.title('Distrbution of houses per county')\n",
    "plt.ylabel('County')\n",
    "plt.xlabel('Count')\n",
    "plt.show()"
   ]
  },
  {
   "cell_type": "code",
   "execution_count": 11,
   "id": "38452e5a",
   "metadata": {},
   "outputs": [
    {
     "data": {
      "image/png": "[encoded data removed]",
      "text/plain": [
       "<Figure size 432x288 with 1 Axes>"
      ]
     },
     "metadata": {
      "needs_background": "light"
     },
     "output_type": "display_data"
    }
   ],
   "source": [
    "sns.violinplot(data=train, y='logerror', x='county')\n",
    "plt.title('Violin distribution of logerror and county')\n",
    "plt.show()"
   ]
  },
  {
   "cell_type": "code",
   "execution_count": 12,
   "id": "5c98b046",
   "metadata": {},
   "outputs": [
    {
     "data": {
      "image/png": "[encoded data removed]",
      "text/plain": [
       "<Figure size 432x288 with 1 Axes>"
      ]
     },
     "metadata": {
      "needs_background": "light"
     },
     "output_type": "display_data"
    }
   ],
   "source": [
    "sns.boxplot(data=train, y='logerror', x='county')\n",
    "plt.title(\"Is there a difference in log error between counties?\")\n",
    "plt.show()"
   ]
  },
  {
   "cell_type": "code",
   "execution_count": 13,
   "id": "256a516e",
   "metadata": {},
   "outputs": [
    {
     "data": {
      "image/png": "[encoded data removed]",
      "text/plain": [
       "<Figure size 432x288 with 1 Axes>"
      ]
     },
     "metadata": {
      "needs_background": "light"
     },
     "output_type": "display_data"
    }
   ],
   "source": [
    "sns.barplot(data=train, y='logerror', x='county')\n",
    "plt.title(\"Is there a difference in log error between counties?\")\n",
    "plt.show()\n"
   ]
  },
  {
   "cell_type": "markdown",
   "id": "27ffcec5",
   "metadata": {},
   "source": []
  },
  {
   "cell_type": "markdown",
   "id": "1cfddcc9",
   "metadata": {},
   "source": []
  },
  {
   "cell_type": "markdown",
   "id": "a793f819",
   "metadata": {},
   "source": [
    "Bonus:\n",
    "\n",
    "Compute the mean(logerror) by zipcode and the overall mean(logerror). Write a loop that will run a t-test between the overall mean and the mean for each zip code. We want to identify the zip codes where the error is significantly higher or lower than the expected error."
   ]
  },
  {
   "cell_type": "code",
   "execution_count": null,
   "id": "0329791f",
   "metadata": {},
   "outputs": [],
   "source": []
  }
 ],
 "metadata": {
  "kernelspec": {
   "display_name": "Python 3",
   "language": "python",
   "name": "python3"
  },
  "language_info": {
   "codemirror_mode": {
    "name": "ipython",
    "version": 3
   },
   "file_extension": ".py",
   "mimetype": "text/x-python",
   "name": "python",
   "nbconvert_exporter": "python",
   "pygments_lexer": "ipython3",
   "version": "3.8.8"
  }
 },
 "nbformat": 4,
 "nbformat_minor": 5
}
