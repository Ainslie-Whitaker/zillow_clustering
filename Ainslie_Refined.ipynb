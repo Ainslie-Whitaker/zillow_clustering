{
 "cells": [
  {
   "cell_type": "code",
   "execution_count": 1,
   "id": "ed472643",
   "metadata": {},
   "outputs": [],
   "source": [
    "# imports\n",
    "import pandas as pd\n",
    "import numpy as np\n",
    "import matplotlib.pyplot as plt\n",
    "import seaborn as sns\n",
    "\n",
    "from scipy import stats\n",
    "\n",
    "from sklearn.model_selection import train_test_split\n",
    "from sklearn.preprocessing import MinMaxScaler\n",
    "from sklearn.cluster import KMeans\n",
    "from sklearn.feature_selection import SelectKBest, f_regression\n",
    "from sklearn.linear_model import LinearRegression, LassoLars, TweedieRegressor\n",
    "from sklearn.feature_selection import RFE\n",
    "from sklearn.metrics import mean_squared_error\n",
    "from sklearn.preprocessing import PolynomialFeatures\n",
    "\n",
    "import graphviz\n",
    "from graphviz import Graph\n",
    "\n",
    "import env\n",
    "import wrangle_zillow\n",
    "import os\n",
    "\n",
    "# turn off pink boxes for demo\n",
    "import warnings\n",
    "warnings.filterwarnings(\"ignore\")"
   ]
  },
  {
   "cell_type": "markdown",
   "id": "0bfca0bd",
   "metadata": {},
   "source": [
    "# Zillow - Improving Zestimate Logerror"
   ]
  },
  {
   "cell_type": "markdown",
   "id": "80d61925",
   "metadata": {},
   "source": [
    "Chloe Whitaker & Lori Ainslie, 01/10/2022"
   ]
  },
  {
   "cell_type": "markdown",
   "id": "6ffb07cc",
   "metadata": {},
   "source": [
    "<hr style=\"border:2px solid gray\"> </hr>"
   ]
  },
  {
   "cell_type": "markdown",
   "id": "6bb52481",
   "metadata": {},
   "source": [
    "## Executive Summary"
   ]
  },
  {
   "cell_type": "markdown",
   "id": "044c395c",
   "metadata": {},
   "source": [
    "### Project Goals\n",
    "\n",
    "* To build a model that accurately predicts the property tax assessed values of single family properties that had a transaction during 2017"
   ]
  },
  {
   "cell_type": "markdown",
   "id": "665be9dd",
   "metadata": {},
   "source": [
    "### Project Description\n",
    "\n",
    "* Accurately predicting property tax assessed values is important because it provides valuable information to our users and helps predict home values with greater accuracy. The model selected will be evaluated by how well it performs over the baseline and previous models."
   ]
  },
  {
   "cell_type": "markdown",
   "id": "50f30db8",
   "metadata": {},
   "source": [
    "## Acquisition & Preparation"
   ]
  },
  {
   "cell_type": "code",
   "execution_count": null,
   "id": "afcaf9fc",
   "metadata": {},
   "outputs": [],
   "source": []
  }
 ],
 "metadata": {
  "kernelspec": {
   "display_name": "Python 3",
   "language": "python",
   "name": "python3"
  },
  "language_info": {
   "codemirror_mode": {
    "name": "ipython",
    "version": 3
   },
   "file_extension": ".py",
   "mimetype": "text/x-python",
   "name": "python",
   "nbconvert_exporter": "python",
   "pygments_lexer": "ipython3",
   "version": "3.8.8"
  }
 },
 "nbformat": 4,
 "nbformat_minor": 5
}
